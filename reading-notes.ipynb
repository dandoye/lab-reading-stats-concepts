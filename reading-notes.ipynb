{
 "cells": [
  {
   "cell_type": "markdown",
   "metadata": {},
   "source": [
    "# Challenge 1: What is the difference between expected value and mean?\n",
    "- You know both concepts but, is there a difference? Are they synonims? Start investigating.\n",
    "- As a good reference (once you have looked for some information) you have this article."
   ]
  },
  {
   "cell_type": "markdown",
   "metadata": {},
   "source": [
    "### Answer:"
   ]
  },
  {
   "cell_type": "markdown",
   "metadata": {},
   "source": [
    "- Expected value is the weighted average of the values in a range. It takes into account the probability of each value and has to be on discrete variables.\n",
    "- Mean is the average of a given sample or population. It is the sum of the values divided by the total observations.\n",
    "- With enough experiments (n) the expected value will equal the mean."
   ]
  },
  {
   "cell_type": "markdown",
   "metadata": {},
   "source": [
    "# Challenge 2: What is the \"problem\" in science with p-values?\n",
    "- We have told you that a lot of scientifical investigations are based on p-values. The last week, Nature magazine published an article regarding the problem. Start digging on it!\n",
    "- Don't hesitate to use more articles if you want to :)"
   ]
  },
  {
   "cell_type": "markdown",
   "metadata": {},
   "source": [
    "### Answer:"
   ]
  },
  {
   "cell_type": "markdown",
   "metadata": {},
   "source": [
    "- The problem with p-value is that it is often misinterpreted in instances where the p-value is higher than the significance level. When it is, we fail to reject the null hypothesis (the null usually representing similarity of two subsets), and instead incorrectly assume that we are accepting it as the truth. In reality the only conclusion we can make is that it may be true, but we don't know.\n",
    "- The issue lies in us believing the dichotomy of it - if not this, then the opposite - either statistically significant or not significant. It is more fluid than that.\n",
    "- We need to take into consideration that there is a random component to most tests and thus even if we try to replicate a given test to a tee, we may results in very different p-values given the initial randomization."
   ]
  },
  {
   "cell_type": "markdown",
   "metadata": {},
   "source": [
    "# Challenge 3: Applying testing to a specific case: A/B testing.\n",
    "A/B testing is a widely used tool to understand differences between two samples. It is a way to measure the impact of something we did:\n",
    "- A marketing campaign.\n",
    "- A new feature in our application.\n",
    "- A new design in our application.\n",
    "- A different flow in the User Experience flow.\n",
    "\n",
    "To do this, is very important first to design our experiment.\n",
    "- We need to know how we are measuring the impact. If people has the behaviour we want with this new implementation.\n",
    "- We choose a control group (people who doesn't have/see the new change) and the group which will see the new change.\n",
    "- We think about how much data do we need.\n",
    "- We measure the difference between them.\n",
    "One example: Our application has a lot of mini-games. We want people to reach the games that we think are the best but the behaviour is not the expected, they don't reach them.\n",
    "\n",
    "So we call a designer and after a lot of work he shows us a new design for our application: we will add a botton specific for that kinf of games inviting the users to click on it:\n",
    "\n",
    "Click here to discover cool games!\n",
    "\n",
    "We think it will work but can we be sure? So instead of implementing this new botton for all users, we implement it for 10% and we compare the results with the users that didn't have it. Is there a significant difference? Is our botton working?\n",
    "\n",
    "Read more about A/B testing with a couple of examples:\n",
    "\n",
    "Another example about Netflix here\n",
    "\n",
    "What happened to Basecamp\n",
    "\n",
    "An example with Python\n",
    "\n",
    "A cool general explanation\n",
    "\n",
    "So, take one single example in the articles you just read, which specific test/s would you apply? (We want you just to do a draft and think a little bit how to apply the tests you already know in this case)"
   ]
  },
  {
   "cell_type": "markdown",
   "metadata": {},
   "source": [
    "### Answer:"
   ]
  },
  {
   "cell_type": "markdown",
   "metadata": {},
   "source": [
    "Netflix - explore / exploit experiment:\n",
    "- Once holdout has been created on product's end, we will test the outcomes to see if the difference in engagement is significant, then test the different in streaming hours.\n",
    "- For the explore phase - We will take a random sample of those in both the A and B categories (different title images shown) and compute the average CTR of the two groups. Based on the two different means, we will run a 1 sample ttest to compare whether the results are significantly different enough.\n",
    "- If they are, then we would move on to the exploit phase. If they're not, we will test new artwork until we find one that is significantly different.\n",
    "- For the exploit phase - we will take the winners of the explore phase for different metrics and run a similar test. This time we will measure the total streaming hours that follows the click through. We will take the mean of the streaming hours of each sample from A and B and run a 1 sample ttest.\n",
    "- Conclude which artwork leads to an overall increase in hours."
   ]
  },
  {
   "cell_type": "code",
   "execution_count": null,
   "metadata": {},
   "outputs": [],
   "source": []
  }
 ],
 "metadata": {
  "kernelspec": {
   "display_name": "Python 3",
   "language": "python",
   "name": "python3"
  },
  "language_info": {
   "codemirror_mode": {
    "name": "ipython",
    "version": 3
   },
   "file_extension": ".py",
   "mimetype": "text/x-python",
   "name": "python",
   "nbconvert_exporter": "python",
   "pygments_lexer": "ipython3",
   "version": "3.7.3"
  }
 },
 "nbformat": 4,
 "nbformat_minor": 2
}
